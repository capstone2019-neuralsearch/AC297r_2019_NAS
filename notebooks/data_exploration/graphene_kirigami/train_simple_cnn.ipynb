{
 "cells": [
  {
   "cell_type": "code",
   "execution_count": 1,
   "metadata": {},
   "outputs": [
    {
     "data": {
      "text/plain": [
       "('2.0.0', '2.2.4-tf')"
      ]
     },
     "execution_count": 1,
     "metadata": {},
     "output_type": "execute_result"
    }
   ],
   "source": [
    "%matplotlib inline\n",
    "import matplotlib.pyplot as plt\n",
    "import numpy as np\n",
    "import pandas as pd\n",
    "import xarray as xr\n",
    "\n",
    "from sklearn.model_selection import train_test_split\n",
    "from sklearn.metrics import r2_score\n",
    "\n",
    "import tensorflow as tf\n",
    "from tensorflow import keras\n",
    "tf.__version__, keras.__version__"
   ]
  },
  {
   "cell_type": "markdown",
   "metadata": {},
   "source": [
    "# Prepare data"
   ]
  },
  {
   "cell_type": "code",
   "execution_count": 2,
   "metadata": {},
   "outputs": [
    {
     "data": {
      "text/plain": [
       "<xarray.Dataset>\n",
       "Dimensions:       (sample: 29791, x: 80, x_c: 5, y: 30, y_c: 3)\n",
       "Dimensions without coordinates: sample, x, x_c, y, y_c\n",
       "Data variables:\n",
       "    coarse_image  (sample, y_c, x_c) float64 ...\n",
       "    fine_image    (sample, y, x) float64 ...\n",
       "    strain        (sample) float64 ...\n",
       "    stress        (sample) float64 ..."
      ]
     },
     "execution_count": 2,
     "metadata": {},
     "output_type": "execute_result"
    }
   ],
   "source": [
    "ds = xr.open_dataset('./graphene_processed.nc')\n",
    "ds"
   ]
  },
  {
   "cell_type": "code",
   "execution_count": 3,
   "metadata": {},
   "outputs": [
    {
     "data": {
      "text/plain": [
       "((29791, 3, 5, 1), (29791,))"
      ]
     },
     "execution_count": 3,
     "metadata": {},
     "output_type": "execute_result"
    }
   ],
   "source": [
    "X = ds['coarse_image'].values[..., np.newaxis]  # add channel dimension\n",
    "\n",
    "# X = ds['fine_image'].values[..., np.newaxis]  # using high-resolution\n",
    "\n",
    "y = ds['strain'].values\n",
    "\n",
    "X.shape, y.shape"
   ]
  },
  {
   "cell_type": "code",
   "execution_count": 4,
   "metadata": {},
   "outputs": [
    {
     "data": {
      "text/plain": [
       "((23832, 3, 5, 1), (5959, 3, 5, 1))"
      ]
     },
     "execution_count": 4,
     "metadata": {},
     "output_type": "execute_result"
    }
   ],
   "source": [
    "X_train, X_test, y_train, y_test = train_test_split(X, y, test_size=0.2, random_state=42)\n",
    "X_train.shape, X_test.shape"
   ]
  },
  {
   "cell_type": "markdown",
   "metadata": {},
   "source": [
    "# Train model"
   ]
  },
  {
   "cell_type": "code",
   "execution_count": 5,
   "metadata": {},
   "outputs": [
    {
     "name": "stdout",
     "output_type": "stream",
     "text": [
      "Train on 23832 samples\n",
      "Epoch 1/20\n",
      "23832/23832 [==============================] - 3s 110us/sample - loss: 0.0166\n",
      "Epoch 2/20\n",
      "23832/23832 [==============================] - 2s 81us/sample - loss: 0.0070\n",
      "Epoch 3/20\n",
      "23832/23832 [==============================] - 2s 82us/sample - loss: 0.0053\n",
      "Epoch 4/20\n",
      "23832/23832 [==============================] - 2s 84us/sample - loss: 0.0043\n",
      "Epoch 5/20\n",
      "23832/23832 [==============================] - 2s 83us/sample - loss: 0.0040\n",
      "Epoch 6/20\n",
      "23832/23832 [==============================] - 2s 83us/sample - loss: 0.0036\n",
      "Epoch 7/20\n",
      "23832/23832 [==============================] - 2s 93us/sample - loss: 0.0035\n",
      "Epoch 8/20\n",
      "23832/23832 [==============================] - 2s 84us/sample - loss: 0.0033\n",
      "Epoch 9/20\n",
      "23832/23832 [==============================] - 2s 85us/sample - loss: 0.0032\n",
      "Epoch 10/20\n",
      "23832/23832 [==============================] - 2s 82us/sample - loss: 0.0031\n",
      "Epoch 11/20\n",
      "23832/23832 [==============================] - 2s 83us/sample - loss: 0.0030\n",
      "Epoch 12/20\n",
      "23832/23832 [==============================] - 2s 82us/sample - loss: 0.0030\n",
      "Epoch 13/20\n",
      "23832/23832 [==============================] - 2s 89us/sample - loss: 0.0030\n",
      "Epoch 14/20\n",
      "23832/23832 [==============================] - 3s 117us/sample - loss: 0.0029\n",
      "Epoch 15/20\n",
      "23832/23832 [==============================] - 2s 95us/sample - loss: 0.0028\n",
      "Epoch 16/20\n",
      "23832/23832 [==============================] - 2s 88us/sample - loss: 0.0028\n",
      "Epoch 17/20\n",
      "23832/23832 [==============================] - 2s 95us/sample - loss: 0.0028\n",
      "Epoch 18/20\n",
      "23832/23832 [==============================] - 2s 97us/sample - loss: 0.0028\n",
      "Epoch 19/20\n",
      "23832/23832 [==============================] - 2s 90us/sample - loss: 0.0027\n",
      "Epoch 20/20\n",
      "23832/23832 [==============================] - 3s 113us/sample - loss: 0.0027\n"
     ]
    }
   ],
   "source": [
    "model = keras.Sequential([\n",
    "    keras.layers.Conv2D(16, kernel_size=(3, 3), activation='relu', padding='same'),\n",
    "    keras.layers.Conv2D(16, kernel_size=(3, 3), activation='relu', padding='same'),\n",
    "    keras.layers.Flatten(),\n",
    "    keras.layers.Dense(1)\n",
    "])\n",
    "model.compile('adam', 'mse')\n",
    "history = model.fit(X_train, y_train, batch_size=32, epochs=20)"
   ]
  },
  {
   "cell_type": "code",
   "execution_count": 6,
   "metadata": {},
   "outputs": [
    {
     "data": {
      "text/plain": [
       "[<matplotlib.lines.Line2D at 0x1c364b9940>]"
      ]
     },
     "execution_count": 6,
     "metadata": {},
     "output_type": "execute_result"
    },
    {
     "data": {
      "image/png": "[encoded data removed]",
      "text/plain": [
       "<Figure size 432x288 with 1 Axes>"
      ]
     },
     "metadata": {},
     "output_type": "display_data"
    }
   ],
   "source": [
    "plt.plot(history.history['loss'], '-o')"
   ]
  },
  {
   "cell_type": "markdown",
   "metadata": {},
   "source": [
    "# Evaluate model"
   ]
  },
  {
   "cell_type": "code",
   "execution_count": 7,
   "metadata": {},
   "outputs": [
    {
     "name": "stdout",
     "output_type": "stream",
     "text": [
      "CPU times: user 1.06 s, sys: 169 ms, total: 1.23 s\n",
      "Wall time: 923 ms\n"
     ]
    },
    {
     "data": {
      "text/plain": [
       "0.9228349370790577"
      ]
     },
     "execution_count": 7,
     "metadata": {},
     "output_type": "execute_result"
    }
   ],
   "source": [
    "%time y_train_pred = model.predict(X_train)\n",
    "r2_score(y_train, y_train_pred)"
   ]
  },
  {
   "cell_type": "code",
   "execution_count": 8,
   "metadata": {},
   "outputs": [
    {
     "name": "stdout",
     "output_type": "stream",
     "text": [
      "CPU times: user 264 ms, sys: 41.2 ms, total: 305 ms\n",
      "Wall time: 251 ms\n"
     ]
    },
    {
     "data": {
      "text/plain": [
       "0.9151432209952912"
      ]
     },
     "execution_count": 8,
     "metadata": {},
     "output_type": "execute_result"
    }
   ],
   "source": [
    "%time y_test_pred = model.predict(X_test)\n",
    "r2_score(y_test, y_test_pred)"
   ]
  },
  {
   "cell_type": "code",
   "execution_count": 9,
   "metadata": {},
   "outputs": [
    {
     "data": {
      "text/plain": [
       "[<matplotlib.lines.Line2D at 0x1c3a1e41d0>]"
      ]
     },
     "execution_count": 9,
     "metadata": {},
     "output_type": "execute_result"
    },
    {
     "data": {
      "image/png": "[encoded data removed]",
      "text/plain": [
       "<Figure size 432x288 with 1 Axes>"
      ]
     },
     "metadata": {},
     "output_type": "display_data"
    }
   ],
   "source": [
    "plt.scatter(y_train, y_train_pred, alpha=0.3, s=5)\n",
    "plt.plot([0, 2], [0, 2], '--', c='k')"
   ]
  },
  {
   "cell_type": "code",
   "execution_count": 10,
   "metadata": {},
   "outputs": [
    {
     "data": {
      "text/plain": [
       "[<matplotlib.lines.Line2D at 0x1c3a1e4080>]"
      ]
     },
     "execution_count": 10,
     "metadata": {},
     "output_type": "execute_result"
    },
    {
     "data": {
      "image/png": "[encoded data removed]",
      "text/plain": [
       "<Figure size 432x288 with 1 Axes>"
      ]
     },
     "metadata": {},
     "output_type": "display_data"
    }
   ],
   "source": [
    "plt.scatter(y_test, y_test_pred, alpha=0.3, s=5)\n",
    "plt.plot([0, 2], [0, 2], '--', c='k')"
   ]
  }
 ],
 "metadata": {
  "kernelspec": {
   "display_name": "Python 3",
   "language": "python",
   "name": "python3"
  },
  "language_info": {
   "codemirror_mode": {
    "name": "ipython",
    "version": 3
   },
   "file_extension": ".py",
   "mimetype": "text/x-python",
   "name": "python",
   "nbconvert_exporter": "python",
   "pygments_lexer": "ipython3",
   "version": "3.6.6"
  }
 },
 "nbformat": 4,
 "nbformat_minor": 2
}
