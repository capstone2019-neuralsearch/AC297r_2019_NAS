{
 "cells": [
  {
   "cell_type": "code",
   "execution_count": 1,
   "metadata": {},
   "outputs": [
    {
     "data": {
      "text/plain": [
       "('2.0.0', '2.2.4-tf')"
      ]
     },
     "execution_count": 1,
     "metadata": {},
     "output_type": "execute_result"
    }
   ],
   "source": [
    "%matplotlib inline\n",
    "import matplotlib.pyplot as plt\n",
    "import numpy as np\n",
    "import pandas as pd\n",
    "import xarray as xr\n",
    "\n",
    "from sklearn.model_selection import train_test_split\n",
    "from sklearn.metrics import r2_score\n",
    "\n",
    "import tensorflow as tf\n",
    "from tensorflow import keras\n",
    "tf.__version__, keras.__version__"
   ]
  },
  {
   "cell_type": "markdown",
   "metadata": {},
   "source": [
    "# Prepare data"
   ]
  },
  {
   "cell_type": "code",
   "execution_count": 2,
   "metadata": {},
   "outputs": [
    {
     "data": {
      "text/plain": [
       "<xarray.Dataset>\n",
       "Dimensions:       (sample: 29791, x: 80, x_c: 5, y: 30, y_c: 3)\n",
       "Dimensions without coordinates: sample, x, x_c, y, y_c\n",
       "Data variables:\n",
       "    coarse_image  (sample, y_c, x_c) float64 ...\n",
       "    fine_image    (sample, y, x) float64 ...\n",
       "    strain        (sample) float64 ...\n",
       "    stress        (sample) float64 ..."
      ]
     },
     "execution_count": 2,
     "metadata": {},
     "output_type": "execute_result"
    }
   ],
   "source": [
    "ds = xr.open_dataset('./graphene_processed.nc')\n",
    "ds"
   ]
  },
  {
   "cell_type": "code",
   "execution_count": 3,
   "metadata": {},
   "outputs": [
    {
     "data": {
      "text/plain": [
       "((29791, 3, 5, 1), (29791,))"
      ]
     },
     "execution_count": 3,
     "metadata": {},
     "output_type": "execute_result"
    }
   ],
   "source": [
    "X = ds['coarse_image'].values  # the coarse 3x5 image seems enough\n",
    "# X = ds['fine_image'].values  # the same model works worse on higher resolution image\n",
    "\n",
    "y = ds['strain'].values\n",
    "\n",
    "X = X[..., np.newaxis]  # add channel dimension\n",
    "X.shape, y.shape"
   ]
  },
  {
   "cell_type": "code",
   "execution_count": 4,
   "metadata": {},
   "outputs": [
    {
     "data": {
      "text/plain": [
       "((23832, 3, 5, 1), (5959, 3, 5, 1))"
      ]
     },
     "execution_count": 4,
     "metadata": {},
     "output_type": "execute_result"
    }
   ],
   "source": [
    "X_train, X_test, y_train, y_test = train_test_split(X, y, test_size=0.2, random_state=42)\n",
    "X_train.shape, X_test.shape"
   ]
  },
  {
   "cell_type": "markdown",
   "metadata": {},
   "source": [
    "# Train model"
   ]
  },
  {
   "cell_type": "code",
   "execution_count": 5,
   "metadata": {},
   "outputs": [
    {
     "name": "stdout",
     "output_type": "stream",
     "text": [
      "Train on 23832 samples\n",
      "Epoch 1/20\n",
      "23832/23832 [==============================] - 3s 115us/sample - loss: 0.0131\n",
      "Epoch 2/20\n",
      "23832/23832 [==============================] - 2s 92us/sample - loss: 0.0047\n",
      "Epoch 3/20\n",
      "23832/23832 [==============================] - 2s 94us/sample - loss: 0.0037\n",
      "Epoch 4/20\n",
      "23832/23832 [==============================] - 2s 90us/sample - loss: 0.0032\n",
      "Epoch 5/20\n",
      "23832/23832 [==============================] - 2s 88us/sample - loss: 0.0031\n",
      "Epoch 6/20\n",
      "23832/23832 [==============================] - 2s 99us/sample - loss: 0.0029\n",
      "Epoch 7/20\n",
      "23832/23832 [==============================] - 2s 100us/sample - loss: 0.0028\n",
      "Epoch 8/20\n",
      "23832/23832 [==============================] - 2s 100us/sample - loss: 0.0027\n",
      "Epoch 9/20\n",
      "23832/23832 [==============================] - 2s 100us/sample - loss: 0.0025\n",
      "Epoch 10/20\n",
      "23832/23832 [==============================] - 2s 102us/sample - loss: 0.0025\n",
      "Epoch 11/20\n",
      "23832/23832 [==============================] - 2s 103us/sample - loss: 0.0025\n",
      "Epoch 12/20\n",
      "23832/23832 [==============================] - 3s 107us/sample - loss: 0.0023\n",
      "Epoch 13/20\n",
      "23832/23832 [==============================] - 2s 100us/sample - loss: 0.0024\n",
      "Epoch 14/20\n",
      "23832/23832 [==============================] - 2s 102us/sample - loss: 0.0023\n",
      "Epoch 15/20\n",
      "23832/23832 [==============================] - 2s 99us/sample - loss: 0.0022\n",
      "Epoch 16/20\n",
      "23832/23832 [==============================] - 3s 109us/sample - loss: 0.0021\n",
      "Epoch 17/20\n",
      "23832/23832 [==============================] - 3s 113us/sample - loss: 0.0021\n",
      "Epoch 18/20\n",
      "23832/23832 [==============================] - 3s 118us/sample - loss: 0.0021\n",
      "Epoch 19/20\n",
      "23832/23832 [==============================] - 2s 92us/sample - loss: 0.0020\n",
      "Epoch 20/20\n",
      "23832/23832 [==============================] - 2s 96us/sample - loss: 0.0020\n"
     ]
    }
   ],
   "source": [
    "model = keras.Sequential([\n",
    "    keras.layers.Conv2D(64, kernel_size=(3, 3), activation='relu', padding='same'),\n",
    "    keras.layers.Conv2D(64, kernel_size=(3, 3), activation='relu', padding='same'),\n",
    "    keras.layers.Flatten(),\n",
    "    keras.layers.Dense(1)\n",
    "])\n",
    "model.compile('adam', 'mse')\n",
    "history = model.fit(X_train, y_train, batch_size=32, epochs=20)"
   ]
  },
  {
   "cell_type": "code",
   "execution_count": 6,
   "metadata": {},
   "outputs": [
    {
     "data": {
      "text/plain": [
       "[<matplotlib.lines.Line2D at 0x1c2f65fa20>]"
      ]
     },
     "execution_count": 6,
     "metadata": {},
     "output_type": "execute_result"
    },
    {
     "data": {
      "image/png": "[encoded data removed]",
      "text/plain": [
       "<Figure size 432x288 with 1 Axes>"
      ]
     },
     "metadata": {},
     "output_type": "display_data"
    }
   ],
   "source": [
    "plt.plot(history.history['loss'], '-o')"
   ]
  },
  {
   "cell_type": "markdown",
   "metadata": {},
   "source": [
    "# Evaluate model"
   ]
  },
  {
   "cell_type": "code",
   "execution_count": 7,
   "metadata": {},
   "outputs": [
    {
     "name": "stdout",
     "output_type": "stream",
     "text": [
      "CPU times: user 1.94 s, sys: 146 ms, total: 2.09 s\n",
      "Wall time: 1.15 s\n"
     ]
    },
    {
     "data": {
      "text/plain": [
       "0.9454444149595516"
      ]
     },
     "execution_count": 7,
     "metadata": {},
     "output_type": "execute_result"
    }
   ],
   "source": [
    "%time y_train_pred = model.predict(X_train)\n",
    "r2_score(y_train, y_train_pred)"
   ]
  },
  {
   "cell_type": "code",
   "execution_count": 8,
   "metadata": {},
   "outputs": [
    {
     "name": "stdout",
     "output_type": "stream",
     "text": [
      "CPU times: user 548 ms, sys: 38.8 ms, total: 586 ms\n",
      "Wall time: 373 ms\n"
     ]
    },
    {
     "data": {
      "text/plain": [
       "0.9267094841065553"
      ]
     },
     "execution_count": 8,
     "metadata": {},
     "output_type": "execute_result"
    }
   ],
   "source": [
    "%time y_test_pred = model.predict(X_test)\n",
    "r2_score(y_test, y_test_pred)"
   ]
  },
  {
   "cell_type": "code",
   "execution_count": 9,
   "metadata": {},
   "outputs": [
    {
     "data": {
      "text/plain": [
       "[<matplotlib.lines.Line2D at 0x1c318af630>]"
      ]
     },
     "execution_count": 9,
     "metadata": {},
     "output_type": "execute_result"
    },
    {
     "data": {
      "image/png": "[encoded data removed]",
      "text/plain": [
       "<Figure size 432x288 with 1 Axes>"
      ]
     },
     "metadata": {},
     "output_type": "display_data"
    }
   ],
   "source": [
    "plt.scatter(y_train, y_train_pred, alpha=0.3, s=5)\n",
    "plt.plot([0, 2], [0, 2], '--', c='k')"
   ]
  },
  {
   "cell_type": "code",
   "execution_count": 10,
   "metadata": {},
   "outputs": [
    {
     "data": {
      "text/plain": [
       "[<matplotlib.lines.Line2D at 0x1c318d1dd8>]"
      ]
     },
     "execution_count": 10,
     "metadata": {},
     "output_type": "execute_result"
    },
    {
     "data": {
      "image/png": "[encoded data removed]",
      "text/plain": [
       "<Figure size 432x288 with 1 Axes>"
      ]
     },
     "metadata": {},
     "output_type": "display_data"
    }
   ],
   "source": [
    "plt.scatter(y_test, y_test_pred, alpha=0.3, s=5)\n",
    "plt.plot([0, 2], [0, 2], '--', c='k')"
   ]
  },
  {
   "cell_type": "code",
   "execution_count": null,
   "metadata": {},
   "outputs": [],
   "source": []
  }
 ],
 "metadata": {
  "kernelspec": {
   "display_name": "Python 3",
   "language": "python",
   "name": "python3"
  },
  "language_info": {
   "codemirror_mode": {
    "name": "ipython",
    "version": 3
   },
   "file_extension": ".py",
   "mimetype": "text/x-python",
   "name": "python",
   "nbconvert_exporter": "python",
   "pygments_lexer": "ipython3",
   "version": "3.6.6"
  }
 },
 "nbformat": 4,
 "nbformat_minor": 2
}
