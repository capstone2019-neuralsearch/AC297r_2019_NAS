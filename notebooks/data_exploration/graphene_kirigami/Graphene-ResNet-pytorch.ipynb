{
 "cells": [
  {
   "cell_type": "code",
   "execution_count": 1,
   "metadata": {
    "_cell_guid": "b1076dfc-b9ad-4769-8c92-a6c4dae69d19",
    "_uuid": "8f2839f25d086af736a60e9eeb907d3b93b6e0e5"
   },
   "outputs": [
    {
     "name": "stdout",
     "output_type": "stream",
     "text": [
      "/kaggle/input/graphene-kirigami/graphene_processed.nc\n"
     ]
    }
   ],
   "source": [
    "# Input data files are available in the \"../input/\" directory.\n",
    "# For example, running this (by clicking run or pressing Shift+Enter) will list all files under the input directory\n",
    "\n",
    "import os\n",
    "for dirname, _, filenames in os.walk('/kaggle/input'):\n",
    "    for filename in filenames:\n",
    "        print(os.path.join(dirname, filename))\n",
    "\n",
    "# Any results you write to the current directory are saved as output."
   ]
  },
  {
   "cell_type": "code",
   "execution_count": 2,
   "metadata": {
    "_cell_guid": "79c7e3d0-c299-4dcb-8224-4455121ee9b0",
    "_uuid": "d629ff2d2480ee46fbb7e2d37f6b5fab8052498a"
   },
   "outputs": [
    {
     "data": {
      "text/plain": [
       "('1.2.0', '0.4.0a0+6b959ee')"
      ]
     },
     "execution_count": 2,
     "metadata": {},
     "output_type": "execute_result"
    }
   ],
   "source": [
    "%matplotlib inline\n",
    "import matplotlib.pyplot as plt\n",
    "import numpy as np\n",
    "import pandas as pd\n",
    "import xarray as xr\n",
    "\n",
    "from sklearn.model_selection import train_test_split\n",
    "from sklearn.metrics import r2_score, mean_squared_error\n",
    "\n",
    "import torch\n",
    "import torchvision\n",
    "\n",
    "import torchvision.transforms as transforms\n",
    "import torch.nn as nn\n",
    "import torch.nn.functional as F\n",
    "import torch.optim as optim\n",
    "\n",
    "torch.__version__, torchvision.__version__"
   ]
  },
  {
   "cell_type": "markdown",
   "metadata": {},
   "source": [
    "# Read input data"
   ]
  },
  {
   "cell_type": "code",
   "execution_count": 3,
   "metadata": {},
   "outputs": [
    {
     "data": {
      "text/plain": [
       "<xarray.Dataset>\n",
       "Dimensions:       (sample: 29791, x: 80, x_c: 5, y: 30, y_c: 3)\n",
       "Dimensions without coordinates: sample, x, x_c, y, y_c\n",
       "Data variables:\n",
       "    coarse_image  (sample, y_c, x_c) float32 ...\n",
       "    fine_image    (sample, y, x) float32 ...\n",
       "    strain        (sample) float32 ...\n",
       "    stress        (sample) float32 ..."
      ]
     },
     "execution_count": 3,
     "metadata": {},
     "output_type": "execute_result"
    }
   ],
   "source": [
    "ds = xr.open_dataset('/kaggle/input/graphene-kirigami/graphene_processed.nc')\n",
    "ds"
   ]
  },
  {
   "cell_type": "code",
   "execution_count": 4,
   "metadata": {},
   "outputs": [
    {
     "data": {
      "text/plain": [
       "<xarray.plot.facetgrid.FacetGrid at 0x7fb0e4f2fe10>"
      ]
     },
     "execution_count": 4,
     "metadata": {},
     "output_type": "execute_result"
    },
    {
     "data": {
      "image/png": "[encoded data removed]",
      "text/plain": [
       "<Figure size 1152x432 with 11 Axes>"
      ]
     },
     "metadata": {
      "needs_background": "light"
     },
     "output_type": "display_data"
    }
   ],
   "source": [
    "ds['fine_image'].isel(sample=slice(0, 10), x=slice(None, None, 2)).plot(col='sample', col_wrap=5)"
   ]
  },
  {
   "cell_type": "markdown",
   "metadata": {},
   "source": [
    "# Conver to torch dataset"
   ]
  },
  {
   "cell_type": "code",
   "execution_count": 5,
   "metadata": {},
   "outputs": [
    {
     "data": {
      "text/plain": [
       "((29791, 1, 32, 80), (29791, 1))"
      ]
     },
     "execution_count": 5,
     "metadata": {},
     "output_type": "execute_result"
    }
   ],
   "source": [
    "# X = ds['coarse_image'].values  # the coarse 3x5 image seems enough\n",
    "X = ds['fine_image'].values  # the same model works worse on higher resolution image\n",
    "\n",
    "y = ds['strain'].values\n",
    "\n",
    "X = X[..., np.newaxis]  # add channel dimension\n",
    "y = y[:, np.newaxis]  # pytorch wants ending 1 dimension\n",
    "\n",
    "# pytorch conv2d wants channel-first, unlike Keras\n",
    "X = X.transpose([0, 3, 1, 2])  # (sample, x, y, channel) -> (sample, channel, x, y)\n",
    "\n",
    "# it appears we need each dimension to be twice divisible by 2\n",
    "# reshape from 30x80 -> 32x80 by zero-padding\n",
    "# see here for details https://stackoverflow.com/a/46115998\n",
    "X = np.pad(X, [(0, 0), (0, 0), (1, 1), (0, 0)], mode='constant', constant_values=0)\n",
    "\n",
    "X.shape, y.shape"
   ]
  },
  {
   "cell_type": "code",
   "execution_count": 6,
   "metadata": {},
   "outputs": [
    {
     "data": {
      "text/plain": [
       "((23832, 1, 32, 80), (5959, 1, 32, 80))"
      ]
     },
     "execution_count": 6,
     "metadata": {},
     "output_type": "execute_result"
    }
   ],
   "source": [
    "X_train, X_test, y_train, y_test = train_test_split(X, y, test_size=0.2, random_state=42)\n",
    "X_train.shape, X_test.shape"
   ]
  },
  {
   "cell_type": "code",
   "execution_count": 7,
   "metadata": {},
   "outputs": [],
   "source": [
    "# https://stackoverflow.com/questions/44429199/how-to-load-a-list-of-numpy-arrays-to-pytorch-dataset-loader\n",
    "\n",
    "trainset = torch.utils.data.TensorDataset(\n",
    "    torch.from_numpy(X_train), torch.from_numpy(y_train)\n",
    ")\n",
    "\n",
    "trainloader = torch.utils.data.DataLoader(\n",
    "    trainset, batch_size=32, shuffle=True, num_workers=2\n",
    ")"
   ]
  },
  {
   "cell_type": "code",
   "execution_count": 8,
   "metadata": {},
   "outputs": [
    {
     "data": {
      "text/plain": [
       "(torch.Size([32, 1, 32, 80]), torch.Size([32, 1]))"
      ]
     },
     "execution_count": 8,
     "metadata": {},
     "output_type": "execute_result"
    }
   ],
   "source": [
    "dataiter = iter(trainloader)\n",
    "inputs, labels = dataiter.next()\n",
    "inputs.shape, labels.shape  # batch, channel, x, y"
   ]
  },
  {
   "cell_type": "markdown",
   "metadata": {},
   "source": [
    "# Train PyTorch model"
   ]
  },
  {
   "cell_type": "code",
   "execution_count": 9,
   "metadata": {},
   "outputs": [],
   "source": [
    "#  https://github.com/kuangliu/pytorch-cifar/blob/master/models/resnet.py\n",
    "\n",
    "class BasicBlock(nn.Module):\n",
    "    expansion = 1\n",
    "\n",
    "    def __init__(self, in_planes, planes, stride=1):\n",
    "        super(BasicBlock, self).__init__()\n",
    "        self.conv1 = nn.Conv2d(in_planes, planes, kernel_size=3, stride=stride, padding=1, bias=False)\n",
    "        self.bn1 = nn.BatchNorm2d(planes)\n",
    "        self.conv2 = nn.Conv2d(planes, planes, kernel_size=3, stride=1, padding=1, bias=False)\n",
    "        self.bn2 = nn.BatchNorm2d(planes)\n",
    "\n",
    "        self.shortcut = nn.Sequential()\n",
    "        if stride != 1 or in_planes != self.expansion*planes:\n",
    "            self.shortcut = nn.Sequential(\n",
    "                nn.Conv2d(in_planes, self.expansion*planes, kernel_size=1, stride=stride, bias=False),\n",
    "                nn.BatchNorm2d(self.expansion*planes)\n",
    "            )\n",
    "\n",
    "    def forward(self, x):\n",
    "        out = F.relu(self.bn1(self.conv1(x)))\n",
    "        out = self.bn2(self.conv2(out))\n",
    "        out += self.shortcut(x)\n",
    "        out = F.relu(out)\n",
    "        return out\n",
    "      \n",
    "class ResNet(nn.Module):\n",
    "    def __init__(self, block, num_blocks, num_classes=10, in_channels=3, base_channel=64):\n",
    "        super(ResNet, self).__init__()\n",
    "        self.in_planes = base_channel\n",
    "\n",
    "        self.conv1 = nn.Conv2d(in_channels, base_channel, kernel_size=3, stride=1, padding=1, bias=False)\n",
    "        self.bn1 = nn.BatchNorm2d(base_channel)\n",
    "        self.layer1 = self._make_layer(block, base_channel, num_blocks[0], stride=1)\n",
    "        self.layer2 = self._make_layer(block, base_channel * 2, num_blocks[1], stride=2)\n",
    "        self.layer3 = self._make_layer(block, base_channel * 4, num_blocks[2], stride=2)\n",
    "        self.layer4 = self._make_layer(block, base_channel * 8, num_blocks[3], stride=2)\n",
    "        self.linear = nn.Linear(base_channel * 8 * block.expansion, num_classes)\n",
    "\n",
    "    def _make_layer(self, block, planes, num_blocks, stride):\n",
    "        strides = [stride] + [1]*(num_blocks-1)\n",
    "        layers = []\n",
    "        for stride in strides:\n",
    "            layers.append(block(self.in_planes, planes, stride))\n",
    "            self.in_planes = planes * block.expansion\n",
    "        return nn.Sequential(*layers)\n",
    "\n",
    "    def forward(self, x):\n",
    "        out = F.relu(self.bn1(self.conv1(x)))\n",
    "        out = self.layer1(out)\n",
    "        out = self.layer2(out)\n",
    "        out = self.layer3(out)\n",
    "        out = self.layer4(out)\n",
    "        out = F.avg_pool2d(out, 4)\n",
    "        out = out.view(out.size(0), -1)\n",
    "        out = self.linear(out)\n",
    "        return out\n",
    "      \n",
    "\n",
    "def ResNet10(**kwargs):\n",
    "    return ResNet(BasicBlock, [1,1,1,1], **kwargs) \n",
    "        \n",
    "def ResNet18(**kwargs):\n",
    "    return ResNet(BasicBlock, [2,2,2,2], **kwargs)\n",
    "\n",
    "def ResNet34(**kwargs):\n",
    "    return ResNet(BasicBlock, [3,4,6,3], **kwargs)\n",
    "  \n",
    "net = ResNet10(in_channels=1, num_classes=1, base_channel=8)"
   ]
  },
  {
   "cell_type": "code",
   "execution_count": 10,
   "metadata": {},
   "outputs": [
    {
     "data": {
      "text/plain": [
       "77273"
      ]
     },
     "execution_count": 10,
     "metadata": {},
     "output_type": "execute_result"
    }
   ],
   "source": [
    "total_params  = sum(p.numel() for p in net.parameters())\n",
    "total_params "
   ]
  },
  {
   "cell_type": "code",
   "execution_count": 11,
   "metadata": {},
   "outputs": [
    {
     "data": {
      "text/plain": [
       "0.309092"
      ]
     },
     "execution_count": 11,
     "metadata": {},
     "output_type": "execute_result"
    }
   ],
   "source": [
    "total_params * 4 / 1e6  # MB"
   ]
  },
  {
   "cell_type": "code",
   "execution_count": 12,
   "metadata": {},
   "outputs": [
    {
     "name": "stdout",
     "output_type": "stream",
     "text": [
      "cuda:0\n"
     ]
    }
   ],
   "source": [
    "# Check GPU\n",
    "device = torch.device(\"cuda:0\" if torch.cuda.is_available() else \"cpu\")\n",
    "print(device)"
   ]
  },
  {
   "cell_type": "code",
   "execution_count": 13,
   "metadata": {
    "_kg_hide-output": true
   },
   "outputs": [
    {
     "name": "stdout",
     "output_type": "stream",
     "text": [
      "CPU times: user 2.4 s, sys: 956 ms, total: 3.36 s\n",
      "Wall time: 6.17 s\n"
     ]
    },
    {
     "data": {
      "text/plain": [
       "''"
      ]
     },
     "execution_count": 13,
     "metadata": {},
     "output_type": "execute_result"
    }
   ],
   "source": [
    "%time net.to(device)\n",
    ";"
   ]
  },
  {
   "cell_type": "code",
   "execution_count": 14,
   "metadata": {},
   "outputs": [],
   "source": [
    "# net(inputs.to(device))  # fails\n",
    "net(inputs[:,:,:,::2].to(device));  # works"
   ]
  },
  {
   "cell_type": "code",
   "execution_count": 15,
   "metadata": {},
   "outputs": [
    {
     "name": "stdout",
     "output_type": "stream",
     "text": [
      "[1,   200] loss: 0.0200\n",
      "[1,   400] loss: 0.0104\n",
      "[1,   600] loss: 0.0074\n",
      "[2,   200] loss: 0.0054\n",
      "[2,   400] loss: 0.0050\n",
      "[2,   600] loss: 0.0052\n",
      "[3,   200] loss: 0.0048\n",
      "[3,   400] loss: 0.0041\n",
      "[3,   600] loss: 0.0044\n",
      "[4,   200] loss: 0.0036\n",
      "[4,   400] loss: 0.0040\n",
      "[4,   600] loss: 0.0036\n",
      "[5,   200] loss: 0.0035\n",
      "[5,   400] loss: 0.0039\n",
      "[5,   600] loss: 0.0039\n",
      "[6,   200] loss: 0.0038\n",
      "[6,   400] loss: 0.0034\n",
      "[6,   600] loss: 0.0036\n",
      "[7,   200] loss: 0.0034\n",
      "[7,   400] loss: 0.0032\n",
      "[7,   600] loss: 0.0031\n",
      "[8,   200] loss: 0.0031\n",
      "[8,   400] loss: 0.0031\n",
      "[8,   600] loss: 0.0031\n",
      "[9,   200] loss: 0.0032\n",
      "[9,   400] loss: 0.0028\n",
      "[9,   600] loss: 0.0027\n",
      "[10,   200] loss: 0.0030\n",
      "[10,   400] loss: 0.0028\n",
      "[10,   600] loss: 0.0031\n",
      "[11,   200] loss: 0.0028\n",
      "[11,   400] loss: 0.0028\n",
      "[11,   600] loss: 0.0027\n",
      "[12,   200] loss: 0.0027\n",
      "[12,   400] loss: 0.0029\n",
      "[12,   600] loss: 0.0027\n",
      "[13,   200] loss: 0.0026\n",
      "[13,   400] loss: 0.0027\n",
      "[13,   600] loss: 0.0027\n",
      "[14,   200] loss: 0.0026\n",
      "[14,   400] loss: 0.0028\n",
      "[14,   600] loss: 0.0028\n",
      "[15,   200] loss: 0.0025\n",
      "[15,   400] loss: 0.0027\n",
      "[15,   600] loss: 0.0026\n",
      "[16,   200] loss: 0.0026\n",
      "[16,   400] loss: 0.0025\n",
      "[16,   600] loss: 0.0025\n",
      "[17,   200] loss: 0.0021\n",
      "[17,   400] loss: 0.0031\n",
      "[17,   600] loss: 0.0026\n",
      "[18,   200] loss: 0.0024\n",
      "[18,   400] loss: 0.0024\n",
      "[18,   600] loss: 0.0026\n",
      "[19,   200] loss: 0.0025\n",
      "[19,   400] loss: 0.0022\n",
      "[19,   600] loss: 0.0025\n",
      "[20,   200] loss: 0.0022\n",
      "[20,   400] loss: 0.0025\n",
      "[20,   600] loss: 0.0022\n",
      "[21,   200] loss: 0.0024\n",
      "[21,   400] loss: 0.0024\n",
      "[21,   600] loss: 0.0023\n",
      "[22,   200] loss: 0.0023\n",
      "[22,   400] loss: 0.0023\n",
      "[22,   600] loss: 0.0024\n",
      "[23,   200] loss: 0.0021\n",
      "[23,   400] loss: 0.0023\n",
      "[23,   600] loss: 0.0020\n",
      "[24,   200] loss: 0.0021\n",
      "[24,   400] loss: 0.0022\n",
      "[24,   600] loss: 0.0024\n",
      "[25,   200] loss: 0.0023\n",
      "[25,   400] loss: 0.0022\n",
      "[25,   600] loss: 0.0022\n",
      "[26,   200] loss: 0.0021\n",
      "[26,   400] loss: 0.0020\n",
      "[26,   600] loss: 0.0023\n",
      "[27,   200] loss: 0.0021\n",
      "[27,   400] loss: 0.0021\n",
      "[27,   600] loss: 0.0022\n",
      "[28,   200] loss: 0.0019\n",
      "[28,   400] loss: 0.0022\n",
      "[28,   600] loss: 0.0022\n",
      "[29,   200] loss: 0.0020\n",
      "[29,   400] loss: 0.0020\n",
      "[29,   600] loss: 0.0024\n",
      "[30,   200] loss: 0.0019\n",
      "[30,   400] loss: 0.0022\n",
      "[30,   600] loss: 0.0022\n",
      "Finished Training\n",
      "CPU times: user 3min 35s, sys: 12.7 s, total: 3min 47s\n",
      "Wall time: 3min 56s\n"
     ]
    }
   ],
   "source": [
    "%%time\n",
    "\n",
    "criterion = nn.MSELoss()\n",
    "optimizer = optim.Adam(net.parameters())\n",
    "\n",
    "for epoch in range(30):  # loop over the dataset multiple times\n",
    "\n",
    "    running_loss = 0.0\n",
    "    for i, data in enumerate(trainloader, 0):\n",
    "        # get the inputs; data is a list of [inputs, labels]\n",
    "\n",
    "        # Our ResNet forward path crashes when the image aspect ratio is too large\n",
    "        # Subsample 30x80 image to 30x40 to prevent it from crashing\n",
    "        inputs, labels = data[0][:,:,:,::2].to(device), data[1].to(device)\n",
    "        \n",
    "        # zero the parameter gradients\n",
    "        optimizer.zero_grad()\n",
    "\n",
    "        # forward + backward + optimize\n",
    "        outputs = net(inputs)\n",
    "        \n",
    "        loss = criterion(outputs, labels)\n",
    "        loss.backward()\n",
    "        optimizer.step()\n",
    "\n",
    "        # print statistics\n",
    "        running_loss += loss.item()\n",
    "        if i % 200 == 199:\n",
    "            print('[%d, %5d] loss: %.4f' % (epoch + 1, i + 1, running_loss / 200))\n",
    "            running_loss = 0.0\n",
    "\n",
    "print('Finished Training')"
   ]
  },
  {
   "cell_type": "markdown",
   "metadata": {},
   "source": [
    "# Evaluate"
   ]
  },
  {
   "cell_type": "code",
   "execution_count": 16,
   "metadata": {},
   "outputs": [],
   "source": [
    "testset = torch.utils.data.TensorDataset(\n",
    "    torch.from_numpy(X_test), torch.from_numpy(y_test)\n",
    ")\n",
    "\n",
    "testloader = torch.utils.data.DataLoader(\n",
    "    testset, batch_size=32, shuffle=False, num_workers=2\n",
    ")\n",
    "\n",
    "# do shuffle input at evaluation, so the output matches the original numpy label\n",
    "trainloader_noshuffle = torch.utils.data.DataLoader(\n",
    "    trainset, batch_size=32, shuffle=False, num_workers=2\n",
    ")"
   ]
  },
  {
   "cell_type": "code",
   "execution_count": 17,
   "metadata": {},
   "outputs": [
    {
     "name": "stdout",
     "output_type": "stream",
     "text": [
      "[  200] loss: 0.0020\n",
      "[  400] loss: 0.0022\n",
      "[  600] loss: 0.0020\n",
      "CPU times: user 2.74 s, sys: 376 ms, total: 3.12 s\n",
      "Wall time: 3.29 s\n",
      "CPU times: user 720 ms, sys: 124 ms, total: 844 ms\n",
      "Wall time: 930 ms\n"
     ]
    },
    {
     "data": {
      "text/plain": [
       "((23832, 1), (5959, 1))"
      ]
     },
     "execution_count": 17,
     "metadata": {},
     "output_type": "execute_result"
    }
   ],
   "source": [
    "# predict batch-by-batch to prevent GPU out-of-memory error\n",
    "\n",
    "def predict(net, loader):\n",
    "    y_pred_list = []\n",
    "    with torch.no_grad():\n",
    "        \n",
    "        running_loss = 0.0\n",
    "        for i, data in enumerate(loader, 0):\n",
    "            # get the inputs; data is a list of [inputs, labels]\n",
    "\n",
    "            inputs, labels = data[0][:,:,:,::2].to(device), data[1].to(device)\n",
    "\n",
    "            # forward + backward + optimize\n",
    "            outputs = net(inputs)\n",
    "            \n",
    "            loss = criterion(outputs, labels)\n",
    "\n",
    "            running_loss += loss.item()\n",
    "            if i % 200 == 199:\n",
    "                print('[%5d] loss: %.4f' % (i + 1, running_loss / 200))\n",
    "                running_loss = 0.0\n",
    "            \n",
    "            y_pred_list.append(outputs.cpu().numpy())\n",
    "        \n",
    "    y_pred = np.concatenate(y_pred_list)\n",
    "    \n",
    "    return y_pred\n",
    "\n",
    "%time y_train_pred = predict(net, trainloader_noshuffle)\n",
    "%time y_test_pred = predict(net, testloader)\n",
    "\n",
    "y_train_pred.shape, y_test_pred.shape"
   ]
  },
  {
   "cell_type": "code",
   "execution_count": 18,
   "metadata": {},
   "outputs": [
    {
     "data": {
      "text/plain": [
       "(0.9357506310841319, 0.923694742447297)"
      ]
     },
     "execution_count": 18,
     "metadata": {},
     "output_type": "execute_result"
    }
   ],
   "source": [
    "r2_score(y_train, y_train_pred), r2_score(y_test, y_test_pred)"
   ]
  },
  {
   "cell_type": "code",
   "execution_count": 19,
   "metadata": {},
   "outputs": [
    {
     "data": {
      "text/plain": [
       "(0.002082385, 0.002503011)"
      ]
     },
     "execution_count": 19,
     "metadata": {},
     "output_type": "execute_result"
    }
   ],
   "source": [
    "mean_squared_error(y_train, y_train_pred), mean_squared_error(y_test, y_test_pred)"
   ]
  },
  {
   "cell_type": "code",
   "execution_count": 20,
   "metadata": {},
   "outputs": [
    {
     "data": {
      "text/plain": [
       "[<matplotlib.lines.Line2D at 0x7fb083261b00>]"
      ]
     },
     "execution_count": 20,
     "metadata": {},
     "output_type": "execute_result"
    },
    {
     "data": {
      "image/png": "[encoded data removed]",
      "text/plain": [
       "<Figure size 432x288 with 1 Axes>"
      ]
     },
     "metadata": {
      "needs_background": "light"
     },
     "output_type": "display_data"
    }
   ],
   "source": [
    "plt.scatter(y_train, y_train_pred, alpha=0.3, s=5)\n",
    "plt.plot([0, 2], [0, 2], '--', c='k')"
   ]
  },
  {
   "cell_type": "code",
   "execution_count": 21,
   "metadata": {},
   "outputs": [
    {
     "data": {
      "text/plain": [
       "[<matplotlib.lines.Line2D at 0x7fb072136d68>]"
      ]
     },
     "execution_count": 21,
     "metadata": {},
     "output_type": "execute_result"
    },
    {
     "data": {
      "image/png": "[encoded data removed]",
      "text/plain": [
       "<Figure size 432x288 with 1 Axes>"
      ]
     },
     "metadata": {
      "needs_background": "light"
     },
     "output_type": "display_data"
    }
   ],
   "source": [
    "plt.scatter(y_test, y_test_pred, alpha=0.3, s=5)\n",
    "plt.plot([0, 2], [0, 2], '--', c='k')"
   ]
  },
  {
   "cell_type": "code",
   "execution_count": null,
   "metadata": {},
   "outputs": [],
   "source": []
  }
 ],
 "metadata": {
  "kernelspec": {
   "display_name": "Python 3",
   "language": "python",
   "name": "python3"
  },
  "language_info": {
   "codemirror_mode": {
    "name": "ipython",
    "version": 3
   },
   "file_extension": ".py",
   "mimetype": "text/x-python",
   "name": "python",
   "nbconvert_exporter": "python",
   "pygments_lexer": "ipython3",
   "version": "3.6.6"
  }
 },
 "nbformat": 4,
 "nbformat_minor": 1
}
