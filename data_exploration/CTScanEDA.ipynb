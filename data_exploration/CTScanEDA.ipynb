{
 "cells": [
  {
   "cell_type": "code",
   "execution_count": 1,
   "metadata": {},
   "outputs": [],
   "source": [
    "import pandas as pd"
   ]
  },
  {
   "cell_type": "code",
   "execution_count": 2,
   "metadata": {},
   "outputs": [],
   "source": [
    "reads = pd.read_csv('reads.csv')"
   ]
  },
  {
   "cell_type": "code",
   "execution_count": 4,
   "metadata": {},
   "outputs": [
    {
     "data": {
      "text/plain": [
       "(491, 44)"
      ]
     },
     "execution_count": 4,
     "metadata": {},
     "output_type": "execute_result"
    }
   ],
   "source": [
    "reads.shape"
   ]
  },
  {
   "cell_type": "code",
   "execution_count": 3,
   "metadata": {},
   "outputs": [
    {
     "data": {
      "text/html": [
       "<div>\n",
       "<style scoped>\n",
       "    .dataframe tbody tr th:only-of-type {\n",
       "        vertical-align: middle;\n",
       "    }\n",
       "\n",
       "    .dataframe tbody tr th {\n",
       "        vertical-align: top;\n",
       "    }\n",
       "\n",
       "    .dataframe thead th {\n",
       "        text-align: right;\n",
       "    }\n",
       "</style>\n",
       "<table border=\"1\" class=\"dataframe\">\n",
       "  <thead>\n",
       "    <tr style=\"text-align: right;\">\n",
       "      <th></th>\n",
       "      <th>name</th>\n",
       "      <th>Category</th>\n",
       "      <th>R1:ICH</th>\n",
       "      <th>R1:IPH</th>\n",
       "      <th>R1:IVH</th>\n",
       "      <th>R1:SDH</th>\n",
       "      <th>R1:EDH</th>\n",
       "      <th>R1:SAH</th>\n",
       "      <th>R1:BleedLocation-Left</th>\n",
       "      <th>R1:BleedLocation-Right</th>\n",
       "      <th>...</th>\n",
       "      <th>R3:EDH</th>\n",
       "      <th>R3:SAH</th>\n",
       "      <th>R3:BleedLocation-Left</th>\n",
       "      <th>R3:BleedLocation-Right</th>\n",
       "      <th>R3:ChronicBleed</th>\n",
       "      <th>R3:Fracture</th>\n",
       "      <th>R3:CalvarialFracture</th>\n",
       "      <th>R3:OtherFracture</th>\n",
       "      <th>R3:MassEffect</th>\n",
       "      <th>R3:MidlineShift</th>\n",
       "    </tr>\n",
       "  </thead>\n",
       "  <tbody>\n",
       "    <tr>\n",
       "      <th>0</th>\n",
       "      <td>CQ500-CT-427</td>\n",
       "      <td>B2</td>\n",
       "      <td>1</td>\n",
       "      <td>1</td>\n",
       "      <td>0</td>\n",
       "      <td>0</td>\n",
       "      <td>0</td>\n",
       "      <td>0</td>\n",
       "      <td>0</td>\n",
       "      <td>1</td>\n",
       "      <td>...</td>\n",
       "      <td>0</td>\n",
       "      <td>0</td>\n",
       "      <td>1</td>\n",
       "      <td>1</td>\n",
       "      <td>0</td>\n",
       "      <td>0</td>\n",
       "      <td>0</td>\n",
       "      <td>0</td>\n",
       "      <td>1</td>\n",
       "      <td>0</td>\n",
       "    </tr>\n",
       "    <tr>\n",
       "      <th>1</th>\n",
       "      <td>CQ500-CT-181</td>\n",
       "      <td>B2</td>\n",
       "      <td>1</td>\n",
       "      <td>1</td>\n",
       "      <td>0</td>\n",
       "      <td>1</td>\n",
       "      <td>0</td>\n",
       "      <td>1</td>\n",
       "      <td>1</td>\n",
       "      <td>0</td>\n",
       "      <td>...</td>\n",
       "      <td>1</td>\n",
       "      <td>1</td>\n",
       "      <td>1</td>\n",
       "      <td>0</td>\n",
       "      <td>0</td>\n",
       "      <td>1</td>\n",
       "      <td>1</td>\n",
       "      <td>0</td>\n",
       "      <td>1</td>\n",
       "      <td>1</td>\n",
       "    </tr>\n",
       "    <tr>\n",
       "      <th>2</th>\n",
       "      <td>CQ500-CT-99</td>\n",
       "      <td>B1</td>\n",
       "      <td>0</td>\n",
       "      <td>0</td>\n",
       "      <td>0</td>\n",
       "      <td>0</td>\n",
       "      <td>0</td>\n",
       "      <td>0</td>\n",
       "      <td>0</td>\n",
       "      <td>0</td>\n",
       "      <td>...</td>\n",
       "      <td>0</td>\n",
       "      <td>0</td>\n",
       "      <td>0</td>\n",
       "      <td>0</td>\n",
       "      <td>0</td>\n",
       "      <td>0</td>\n",
       "      <td>0</td>\n",
       "      <td>0</td>\n",
       "      <td>0</td>\n",
       "      <td>0</td>\n",
       "    </tr>\n",
       "    <tr>\n",
       "      <th>3</th>\n",
       "      <td>CQ500-CT-47</td>\n",
       "      <td>B1</td>\n",
       "      <td>0</td>\n",
       "      <td>0</td>\n",
       "      <td>0</td>\n",
       "      <td>0</td>\n",
       "      <td>0</td>\n",
       "      <td>0</td>\n",
       "      <td>0</td>\n",
       "      <td>0</td>\n",
       "      <td>...</td>\n",
       "      <td>0</td>\n",
       "      <td>0</td>\n",
       "      <td>0</td>\n",
       "      <td>0</td>\n",
       "      <td>0</td>\n",
       "      <td>0</td>\n",
       "      <td>0</td>\n",
       "      <td>0</td>\n",
       "      <td>0</td>\n",
       "      <td>0</td>\n",
       "    </tr>\n",
       "    <tr>\n",
       "      <th>4</th>\n",
       "      <td>CQ500-CT-195</td>\n",
       "      <td>B1</td>\n",
       "      <td>0</td>\n",
       "      <td>0</td>\n",
       "      <td>0</td>\n",
       "      <td>0</td>\n",
       "      <td>0</td>\n",
       "      <td>0</td>\n",
       "      <td>0</td>\n",
       "      <td>0</td>\n",
       "      <td>...</td>\n",
       "      <td>0</td>\n",
       "      <td>0</td>\n",
       "      <td>0</td>\n",
       "      <td>0</td>\n",
       "      <td>0</td>\n",
       "      <td>0</td>\n",
       "      <td>0</td>\n",
       "      <td>0</td>\n",
       "      <td>0</td>\n",
       "      <td>0</td>\n",
       "    </tr>\n",
       "  </tbody>\n",
       "</table>\n",
       "<p>5 rows × 44 columns</p>\n",
       "</div>"
      ],
      "text/plain": [
       "           name Category  R1:ICH  R1:IPH  R1:IVH  R1:SDH  R1:EDH  R1:SAH  \\\n",
       "0  CQ500-CT-427       B2       1       1       0       0       0       0   \n",
       "1  CQ500-CT-181       B2       1       1       0       1       0       1   \n",
       "2   CQ500-CT-99       B1       0       0       0       0       0       0   \n",
       "3   CQ500-CT-47       B1       0       0       0       0       0       0   \n",
       "4  CQ500-CT-195       B1       0       0       0       0       0       0   \n",
       "\n",
       "   R1:BleedLocation-Left  R1:BleedLocation-Right       ...         R3:EDH  \\\n",
       "0                      0                       1       ...              0   \n",
       "1                      1                       0       ...              1   \n",
       "2                      0                       0       ...              0   \n",
       "3                      0                       0       ...              0   \n",
       "4                      0                       0       ...              0   \n",
       "\n",
       "   R3:SAH  R3:BleedLocation-Left  R3:BleedLocation-Right  R3:ChronicBleed  \\\n",
       "0       0                      1                       1                0   \n",
       "1       1                      1                       0                0   \n",
       "2       0                      0                       0                0   \n",
       "3       0                      0                       0                0   \n",
       "4       0                      0                       0                0   \n",
       "\n",
       "   R3:Fracture  R3:CalvarialFracture  R3:OtherFracture  R3:MassEffect  \\\n",
       "0            0                     0                 0              1   \n",
       "1            1                     1                 0              1   \n",
       "2            0                     0                 0              0   \n",
       "3            0                     0                 0              0   \n",
       "4            0                     0                 0              0   \n",
       "\n",
       "   R3:MidlineShift  \n",
       "0                0  \n",
       "1                1  \n",
       "2                0  \n",
       "3                0  \n",
       "4                0  \n",
       "\n",
       "[5 rows x 44 columns]"
      ]
     },
     "execution_count": 3,
     "metadata": {},
     "output_type": "execute_result"
    }
   ],
   "source": [
    "reads.head()"
   ]
  },
  {
   "cell_type": "code",
   "execution_count": 5,
   "metadata": {},
   "outputs": [
    {
     "data": {
      "text/plain": [
       "Index(['name', 'Category', 'R1:ICH', 'R1:IPH', 'R1:IVH', 'R1:SDH', 'R1:EDH',\n",
       "       'R1:SAH', 'R1:BleedLocation-Left', 'R1:BleedLocation-Right',\n",
       "       'R1:ChronicBleed', 'R1:Fracture', 'R1:CalvarialFracture',\n",
       "       'R1:OtherFracture', 'R1:MassEffect', 'R1:MidlineShift', 'R2:ICH',\n",
       "       'R2:IPH', 'R2:IVH', 'R2:SDH', 'R2:EDH', 'R2:SAH',\n",
       "       'R2:BleedLocation-Left', 'R2:BleedLocation-Right', 'R2:ChronicBleed',\n",
       "       'R2:Fracture', 'R2:CalvarialFracture', 'R2:OtherFracture',\n",
       "       'R2:MassEffect', 'R2:MidlineShift', 'R3:ICH', 'R3:IPH', 'R3:IVH',\n",
       "       'R3:SDH', 'R3:EDH', 'R3:SAH', 'R3:BleedLocation-Left',\n",
       "       'R3:BleedLocation-Right', 'R3:ChronicBleed', 'R3:Fracture',\n",
       "       'R3:CalvarialFracture', 'R3:OtherFracture', 'R3:MassEffect',\n",
       "       'R3:MidlineShift'],\n",
       "      dtype='object')"
      ]
     },
     "execution_count": 5,
     "metadata": {},
     "output_type": "execute_result"
    }
   ],
   "source": [
    "reads.columns"
   ]
  },
  {
   "cell_type": "code",
   "execution_count": 7,
   "metadata": {},
   "outputs": [
    {
     "data": {
      "text/plain": [
       "B2    277\n",
       "B1    214\n",
       "Name: Category, dtype: int64"
      ]
     },
     "execution_count": 7,
     "metadata": {},
     "output_type": "execute_result"
    }
   ],
   "source": [
    "reads.Category.value_counts()"
   ]
  },
  {
   "cell_type": "code",
   "execution_count": 15,
   "metadata": {},
   "outputs": [
    {
     "data": {
      "text/plain": [
       "name                      0\n",
       "Category                  0\n",
       "R1:ICH                    0\n",
       "R1:IPH                    0\n",
       "R1:IVH                    0\n",
       "R1:SDH                    0\n",
       "R1:EDH                    0\n",
       "R1:SAH                    0\n",
       "R1:BleedLocation-Left     0\n",
       "R1:BleedLocation-Right    0\n",
       "R1:ChronicBleed           0\n",
       "R1:Fracture               0\n",
       "R1:CalvarialFracture      0\n",
       "R1:OtherFracture          0\n",
       "R1:MassEffect             0\n",
       "R1:MidlineShift           0\n",
       "R2:ICH                    0\n",
       "R2:IPH                    0\n",
       "R2:IVH                    0\n",
       "R2:SDH                    0\n",
       "R2:EDH                    0\n",
       "R2:SAH                    0\n",
       "R2:BleedLocation-Left     0\n",
       "R2:BleedLocation-Right    0\n",
       "R2:ChronicBleed           0\n",
       "R2:Fracture               0\n",
       "R2:CalvarialFracture      0\n",
       "R2:OtherFracture          0\n",
       "R2:MassEffect             0\n",
       "R2:MidlineShift           0\n",
       "R3:ICH                    0\n",
       "R3:IPH                    0\n",
       "R3:IVH                    0\n",
       "R3:SDH                    0\n",
       "R3:EDH                    0\n",
       "R3:SAH                    0\n",
       "R3:BleedLocation-Left     0\n",
       "R3:BleedLocation-Right    0\n",
       "R3:ChronicBleed           0\n",
       "R3:Fracture               0\n",
       "R3:CalvarialFracture      0\n",
       "R3:OtherFracture          0\n",
       "R3:MassEffect             0\n",
       "R3:MidlineShift           0\n",
       "dtype: int64"
      ]
     },
     "execution_count": 15,
     "metadata": {},
     "output_type": "execute_result"
    }
   ],
   "source": [
    "reads.isna().sum()"
   ]
  },
  {
   "cell_type": "code",
   "execution_count": 19,
   "metadata": {},
   "outputs": [],
   "source": [
    "r1_y=[r for r in reads.columns if 'R1' in r]\n",
    "r2_y=[r for r in reads.columns if 'R2' in r]\n",
    "r3_y=[r for r in reads.columns if 'R3' in r]"
   ]
  },
  {
   "cell_type": "code",
   "execution_count": 31,
   "metadata": {},
   "outputs": [],
   "source": [
    "import numpy as np"
   ]
  },
  {
   "cell_type": "code",
   "execution_count": 34,
   "metadata": {},
   "outputs": [],
   "source": [
    "r1_agree_r2 = np.sum(reads[r1_y].values==reads[r2_y].values, axis=1) == 14"
   ]
  },
  {
   "cell_type": "code",
   "execution_count": 42,
   "metadata": {},
   "outputs": [],
   "source": [
    "r1_agree_r2_pct = r1_agree_r2.sum() / len(r1_agree_r2)"
   ]
  },
  {
   "cell_type": "code",
   "execution_count": 38,
   "metadata": {},
   "outputs": [],
   "source": [
    "r2_agree_r3 = np.sum(reads[r2_y].values==reads[r3_y].values, axis=1) == 14"
   ]
  },
  {
   "cell_type": "code",
   "execution_count": 43,
   "metadata": {},
   "outputs": [],
   "source": [
    "r2_agree_r3_pct = r2_agree_r3.sum() / len(r2_agree_r3)"
   ]
  },
  {
   "cell_type": "code",
   "execution_count": 40,
   "metadata": {},
   "outputs": [],
   "source": [
    "r1_agree_r3 = np.sum(reads[r1_y].values==reads[r3_y].values, axis=1) == 14"
   ]
  },
  {
   "cell_type": "code",
   "execution_count": 44,
   "metadata": {},
   "outputs": [],
   "source": [
    "r1_agree_r3_pct = r1_agree_r3.sum() / len(r1_agree_r3)"
   ]
  },
  {
   "cell_type": "code",
   "execution_count": 45,
   "metadata": {},
   "outputs": [
    {
     "name": "stdout",
     "output_type": "stream",
     "text": [
      "R1 agree with R2 (%): 0.5417515274949084\n",
      "R2 agree with R3 (%): 0.5906313645621182\n",
      "R1 agree with R3 (%): 0.5356415478615071\n"
     ]
    }
   ],
   "source": [
    "print('R1 agree with R2 (%): {}'.format(r1_agree_r2_pct))\n",
    "print('R2 agree with R3 (%): {}'.format(r2_agree_r3_pct))\n",
    "print('R1 agree with R3 (%): {}'.format(r1_agree_r3_pct))"
   ]
  },
  {
   "cell_type": "code",
   "execution_count": 46,
   "metadata": {},
   "outputs": [],
   "source": [
    "all_agree = r1_agree_r2 == r1_agree_r3"
   ]
  },
  {
   "cell_type": "code",
   "execution_count": 48,
   "metadata": {},
   "outputs": [
    {
     "data": {
      "text/plain": [
       "0.8594704684317719"
      ]
     },
     "execution_count": 48,
     "metadata": {},
     "output_type": "execute_result"
    }
   ],
   "source": [
    "# this is the percentage of time r1 agrees with r3, given that he already agreed with r2\n",
    "sum(all_agree)/len(all_agree) "
   ]
  }
 ],
 "metadata": {
  "kernelspec": {
   "display_name": "Python 3",
   "language": "python",
   "name": "python3"
  },
  "language_info": {
   "codemirror_mode": {
    "name": "ipython",
    "version": 3
   },
   "file_extension": ".py",
   "mimetype": "text/x-python",
   "name": "python",
   "nbconvert_exporter": "python",
   "pygments_lexer": "ipython3",
   "version": "3.6.5"
  }
 },
 "nbformat": 4,
 "nbformat_minor": 2
}
